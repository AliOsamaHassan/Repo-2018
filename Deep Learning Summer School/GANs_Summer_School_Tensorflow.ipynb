{
 "cells": [
  {
   "cell_type": "markdown",
   "metadata": {},
   "source": [
    "Generative Adversarial Networks in Keras\n",
    "\n",
    "First let's import all the necessary libraries\n",
    "In this case Keras is running in a Tensorflow backend"
   ]
  },
  {
   "cell_type": "code",
   "execution_count": 83,
   "metadata": {},
   "outputs": [],
   "source": [
    "import tensorflow as tf\n",
    "import numpy as np\n",
    "import matplotlib.pyplot as plt\n",
    "from keras.datasets import mnist\n",
    "import random\n",
    "import pandas as pd\n",
    "from __future__ import print_function"
   ]
  },
  {
   "cell_type": "markdown",
   "metadata": {},
   "source": [
    "Now let's import MNIST data"
   ]
  },
  {
   "cell_type": "code",
   "execution_count": 84,
   "metadata": {
    "collapsed": true
   },
   "outputs": [],
   "source": [
    "(x_train, y_train), (x_test, y_test) = mnist.load_data()"
   ]
  },
  {
   "cell_type": "markdown",
   "metadata": {},
   "source": [
    "In this step, each digit type is adjusted to 'float32'"
   ]
  },
  {
   "cell_type": "code",
   "execution_count": 85,
   "metadata": {
    "collapsed": true
   },
   "outputs": [],
   "source": [
    "x_train = x_train.astype('float32') / 255.\n",
    "x_test = x_test.astype('float32') / 255.\n",
    "x_train = x_train.reshape((len(x_train), np.prod(x_train.shape[1:])))\n",
    "x_test = x_test.reshape((len(x_test), np.prod(x_test.shape[1:])))"
   ]
  },
  {
   "cell_type": "markdown",
   "metadata": {},
   "source": [
    "The following step selects a small sample from MNIST so that you can do the computation even without a GPU\n",
    "After that, we add noise to data, using a random normal distribution with mean equal to zero and standard deviation equal to 1"
   ]
  },
  {
   "cell_type": "code",
   "execution_count": 86,
   "metadata": {
    "collapsed": true
   },
   "outputs": [],
   "source": [
    "n=60\n",
    "\n",
    "x_train=x_train[0:n]\n",
    "x_test=x_test[n:n+n]\n",
    "\n",
    "noise_factor = 0.1\n",
    "x_train_noisy = x_train + noise_factor * np.random.normal(loc=0.0, scale=1.0, size=x_train.shape) \n",
    "x_test_noisy = x_test + noise_factor * np.random.normal(loc=0.0, scale=1.0, size=x_test.shape) \n"
   ]
  },
  {
   "cell_type": "markdown",
   "metadata": {},
   "source": [
    "Reshape inputs for the Neural Network that will be composed of real data and data with noise addded"
   ]
  },
  {
   "cell_type": "code",
   "execution_count": 87,
   "metadata": {
    "collapsed": true
   },
   "outputs": [],
   "source": [
    "def norm(x):\n",
    "    return(x-np.min(x))/(np.max(x)-np.min(x))\n",
    "\n",
    "x_train_noisy = norm(x_train_noisy)\n",
    "x_test_noisy = norm(x_test_noisy)\n",
    "\n",
    "x_train_noisy=np.concatenate([x_train_noisy,x_train_noisy])\n",
    "x_test_noisy=np.concatenate([x_test_noisy,x_test_noisy])\n",
    "x_train=norm(np.concatenate([x_train,x_train]))\n",
    "\n",
    "np.random.seed(200)\n",
    "sel=random.sample(range(0,x_train.shape[0]), n)\n",
    "x_train_noisy=x_train_noisy[sel]\n",
    "x_test_noisy=x_test_noisy[sel]\n",
    "x_train=x_train[sel]\n"
   ]
  },
  {
   "cell_type": "markdown",
   "metadata": {},
   "source": [
    "We select a random sample from real data + noisy data and get one-hot encodes for y_train"
   ]
  },
  {
   "cell_type": "code",
   "execution_count": 88,
   "metadata": {
    "collapsed": true
   },
   "outputs": [],
   "source": [
    "y_train=y_train[0:n]\n",
    "y_train=np.concatenate([y_train,y_train])[sel]\n",
    "y_train=np.array(pd.get_dummies(y_train)).astype(np.float32)\n",
    "y_test=y_test[0:n]\n",
    "y_test0=np.concatenate([y_test,y_test])[sel]\n",
    "y_test=np.array(pd.get_dummies(y_test0))\n",
    "\n",
    "x_train=np.array(x_train).astype(np.float64)\n",
    "x_train_noisy=x_train_noisy.astype(np.float64)\n"
   ]
  },
  {
   "cell_type": "markdown",
   "metadata": {},
   "source": [
    "We set the hyperparameters"
   ]
  },
  {
   "cell_type": "code",
   "execution_count": 89,
   "metadata": {
    "collapsed": true
   },
   "outputs": [],
   "source": [
    "num_steps = 10\n",
    "batch_size = n\n",
    "show_steps=50\n",
    "learning_rate1=0.0001\n",
    "image_dim = 784 \n",
    "gen_hidden_dim = 80\n",
    "disc_hidden_dim = 80\n",
    "noise_dim = 10 "
   ]
  },
  {
   "cell_type": "markdown",
   "metadata": {},
   "source": [
    "Now we develop the Generative part of the GAN using Keras and compile the model"
   ]
  },
  {
   "cell_type": "code",
   "execution_count": 90,
   "metadata": {},
   "outputs": [],
   "source": [
    "def mean(x):\n",
    "    mm,_=tf.nn.moments(x,axes=[0])\n",
    "    return mm\n",
    "\n",
    "def var(x):\n",
    "    _,var=tf.nn.moments(x,axes=[0])\n",
    "    return var\n",
    "\n",
    "tf.reset_default_graph() \n",
    "def generator(x, reuse=False):\n",
    "    with tf.variable_scope('Generator', reuse=reuse):\n",
    "        x = tf.layers.dense(x, units=6 * 6 * 64)\n",
    "        x = tf.nn.relu(x)\n",
    "        x = tf.reshape(x, shape=[-1, 6, 6, 64])\n",
    "        x = tf.layers.conv2d_transpose(x, 32, 4, strides=2)\n",
    "        x = tf.nn.batch_normalization(x,mean=mean(x), variance=var(x),offset=None,scale=None,variance_epsilon=1e-3)\n",
    "        x = tf.layers.conv2d_transpose(x, 1, 2, strides=2)\n",
    "        x = tf.nn.relu(x)\n",
    "        x = tf.reshape(x, [n,784])\n",
    "        return x\n"
   ]
  },
  {
   "cell_type": "markdown",
   "metadata": {},
   "source": [
    "Next, we create the Discriminator part of the GAN, using model.add instead of x=layer(x) to diversify our knowledge"
   ]
  },
  {
   "cell_type": "code",
   "execution_count": 91,
   "metadata": {},
   "outputs": [],
   "source": [
    "def discriminator(x, reuse=False):\n",
    "    with tf.variable_scope('Discriminator', reuse=reuse):\n",
    "        x = tf.reshape(x, [n,28,28,1])\n",
    "        x = tf.layers.conv2d(x, 32, 5)\n",
    "        x = tf.nn.relu(x)\n",
    "        x = tf.layers.average_pooling2d(x, 2, 2,padding='same')\n",
    "        x = tf.layers.conv2d(x, 64, 5,padding='same')\n",
    "        x = tf.nn.relu(x)\n",
    "        x = tf.layers.average_pooling2d(x, 8, 8)\n",
    "        x = tf.contrib.layers.flatten(x)\n",
    "        x = tf.layers.dense(x, 784)\n",
    "        x = tf.nn.sigmoid(x)\n",
    "    return x\n"
   ]
  },
  {
   "cell_type": "markdown",
   "metadata": {},
   "source": [
    "In the following cell, we'll create a function that will allow us to freeze the training of the Generator (OR NOT) so that we can try different update strategies with Discriminator and Generator"
   ]
  },
  {
   "cell_type": "code",
   "execution_count": 92,
   "metadata": {
    "collapsed": true
   },
   "outputs": [],
   "source": [
    "noise_input = tf.placeholder(tf.float32, shape=[None, 784])\n",
    "real_image_input = tf.placeholder(tf.float32, shape=[None, 784])\n",
    "\n",
    "with tf.name_scope('GenModel'):\n",
    "    gen_sample = generator(noise_input)\n",
    "\n",
    "\n",
    "disc_real = discriminator(real_image_input)\n",
    "\n",
    "\n",
    "disc_fake = discriminator(gen_sample, reuse=True)\n",
    "disc_concat = tf.concat([disc_real, disc_fake], axis=0)\n",
    "\n",
    "with tf.name_scope('DiscModel'):\n",
    "    stacked_gan = discriminator(gen_sample, reuse=True)\n",
    "\n",
    "disc_target = tf.placeholder(tf.float32, shape=[None,784])\n",
    "gen_target = tf.placeholder(tf.float32, shape=[None,784])\n",
    "\n"
   ]
  },
  {
   "cell_type": "markdown",
   "metadata": {},
   "source": [
    "We compile the GAN"
   ]
  },
  {
   "cell_type": "code",
   "execution_count": 93,
   "metadata": {
    "collapsed": true
   },
   "outputs": [],
   "source": [
    "with tf.name_scope('GenLoss'):\n",
    "    gen_loss = tf.reduce_mean(tf.losses.mean_squared_error(\n",
    "    real_image_input,gen_sample))\n",
    "\n",
    "'''ate aqui ok'''\n",
    "\n",
    "\n",
    "with tf.name_scope('DiscLoss'):\n",
    "    disc_loss = tf.reduce_mean(tf.losses.mean_squared_error(\n",
    "    real_image_input,stacked_gan))\n",
    "\n"
   ]
  },
  {
   "cell_type": "markdown",
   "metadata": {
    "collapsed": true
   },
   "source": [
    "Now we will update Discriminator and Generator asynchronously in the proportion 1:1"
   ]
  },
  {
   "cell_type": "code",
   "execution_count": 94,
   "metadata": {},
   "outputs": [],
   "source": [
    "tf.summary.scalar(\"Generator_Loss\", gen_loss)\n",
    "tf.summary.scalar(\"Discriminator_Loss\", disc_loss)\n",
    "x_image = tf.summary.image('input', tf.reshape(stacked_gan, [-1, 28, 28, 1]), 20)\n",
    "\n",
    "logs_path = 'C:/Users/razim/Anaconda3/envs/tensorflow/Scripts/plot_1'\n",
    "\n",
    "summary = tf.summary.merge_all()\n",
    "\n",
    "\n",
    "optimizer_gen = tf.train.AdamOptimizer(learning_rate=learning_rate1)\n",
    "optimizer_disc = tf.train.AdamOptimizer(learning_rate=learning_rate1)\n",
    "\n",
    "gen_vars = tf.get_collection(tf.GraphKeys.TRAINABLE_VARIABLES, scope='Generator')\n",
    "disc_vars = tf.get_collection(tf.GraphKeys.TRAINABLE_VARIABLES, scope='Discriminator')\n",
    "\n",
    "with tf.name_scope('SGDdisc'):\n",
    "    train_disc = optimizer_disc.minimize(disc_loss)\n",
    "\n",
    "\n",
    "with tf.name_scope('SGDgen'):\n",
    "    train_gen = optimizer_gen.minimize(gen_loss)\n",
    "\n",
    "\n",
    "\n",
    "init = tf.global_variables_initializer()"
   ]
  },
  {
   "cell_type": "markdown",
   "metadata": {},
   "source": [
    "Now we reset all variables that were reshaped and one-hot encoded to calculate accuracy in training and test set"
   ]
  },
  {
   "cell_type": "code",
   "execution_count": 95,
   "metadata": {
    "collapsed": true
   },
   "outputs": [],
   "source": [
    "def next_batch(num, data, labels):\n",
    "    idx = np.arange(0 , len(data))\n",
    "    np.random.shuffle(idx)\n",
    "    idx = idx[:num]\n",
    "    data_shuffle = [data[ i] for i in idx]\n",
    "    labels_shuffle = [labels[ i] for i in idx]\n",
    "    return np.asarray(data_shuffle).astype(np.float32), np.asarray(labels_shuffle).astype(np.float32)\n",
    "\n",
    "\n",
    "summary_writer = tf.summary.FileWriter(logs_path, graph=tf.get_default_graph())\n",
    "\n"
   ]
  },
  {
   "cell_type": "code",
   "execution_count": 96,
   "metadata": {},
   "outputs": [
    {
     "name": "stdout",
     "output_type": "stream",
     "text": [
      "Epoch 1: Generator Loss: 0.174185, Discriminator Loss: 0.231508\n"
     ]
    }
   ],
   "source": [
    "with tf.Session() as sess:\n",
    "    sess.run(init)\n",
    "    for i in range(1, num_steps+1):\n",
    "        batch_x, batch_y=next_batch(batch_size, x_train\n",
    "                                    , x_train_noisy)        \n",
    "        feed_dict = {real_image_input: batch_x, noise_input: batch_y,\n",
    "                     disc_target: batch_x, gen_target: batch_y}\n",
    "        _, _, gl, dl,summary2 = sess.run([train_gen, train_disc, gen_loss, disc_loss,summary],\n",
    "                                feed_dict=feed_dict)\n",
    "        g = sess.run([stacked_gan], feed_dict={noise_input: batch_y})\n",
    "        h = sess.run([gen_sample], feed_dict={noise_input: batch_y})\n",
    "        summary_writer.add_summary(summary2, i)\n",
    "        if i % show_steps == 0 or i == 1:\n",
    "            print('Epoch %i: Generator Loss: %f, Discriminator Loss: %f' % (i, gl, dl))\n"
   ]
  },
  {
   "cell_type": "code",
   "execution_count": 97,
   "metadata": {},
   "outputs": [
    {
     "data": {
      "image/png": "[encoded data removed]",
      "text/plain": [
       "<matplotlib.figure.Figure at 0x7f5a2b1bc320>"
      ]
     },
     "metadata": {},
     "output_type": "display_data"
    },
    {
     "data": {
      "image/png": "[encoded data removed]",
      "text/plain": [
       "<matplotlib.figure.Figure at 0x7f5a2b1bc0f0>"
      ]
     },
     "metadata": {},
     "output_type": "display_data"
    },
    {
     "data": {
      "image/png": "[encoded data removed]",
      "text/plain": [
       "<matplotlib.figure.Figure at 0x7f5a426954a8>"
      ]
     },
     "metadata": {},
     "output_type": "display_data"
    },
    {
     "data": {
      "text/plain": [
       "'RUN\\ntensorboard --logdir=C:/Users/razim/Anaconda3/envs/tensorflow/Scripts/plot_1'"
      ]
     },
     "execution_count": 97,
     "metadata": {},
     "output_type": "execute_result"
    }
   ],
   "source": [
    "plt.figure(figsize=(10, 10))\n",
    "for i in range(11,18):\n",
    "    ax = plt.subplot(1, 8, i-10)\n",
    "    plt.imshow(x_train_noisy[i].reshape(28, 28))\n",
    "    plt.gray()\n",
    "    ax.get_xaxis().set_visible(False)\n",
    "    ax.get_yaxis().set_visible(False)\n",
    "plt.figure(figsize=(10, 10))\n",
    "for i in range(11,18):\n",
    "    ax = plt.subplot(1, 8, i-10)\n",
    "    plt.imshow(np.array(h).reshape(60,28, 28)[i])\n",
    "    plt.gray()\n",
    "    ax.get_xaxis().set_visible(False)\n",
    "    ax.get_yaxis().set_visible(False)\n",
    "plt.show()\n",
    "plt.figure(figsize=(10, 10))\n",
    "for i in range(11,18):\n",
    "    ax = plt.subplot(1, 8, i-10)\n",
    "    plt.imshow(np.array(g).reshape(60,28, 28)[i])\n",
    "    plt.gray()\n",
    "    ax.get_xaxis().set_visible(False)\n",
    "    ax.get_yaxis().set_visible(False)\n",
    "plt.show()\n",
    "\n",
    "'''RUN\n",
    "tensorboard --logdir=C:/Users/razim/Anaconda3/envs/tensorflow/Scripts/plot_1'''\n"
   ]
  },
  {
   "cell_type": "code",
   "execution_count": null,
   "metadata": {
    "collapsed": true
   },
   "outputs": [],
   "source": []
  }
 ],
 "metadata": {
  "kernelspec": {
   "display_name": "Python 3",
   "language": "python",
   "name": "python3"
  },
  "language_info": {
   "codemirror_mode": {
    "name": "ipython",
    "version": 3
   },
   "file_extension": ".py",
   "mimetype": "text/x-python",
   "name": "python",
   "nbconvert_exporter": "python",
   "pygments_lexer": "ipython3",
   "version": "3.6.1"
  }
 },
 "nbformat": 4,
 "nbformat_minor": 2
}
